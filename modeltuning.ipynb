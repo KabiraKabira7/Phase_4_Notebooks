{
 "cells": [
  {
   "cell_type": "markdown",
   "id": "f988e924",
   "metadata": {},
   "source": [
    "In this lesson we will learn how to use **combinatorial grid search** to find best combination of parameters for a given model.\n",
    "- For a given model, it is possible that increasing the value of one parameter generally improves model perfomance upto a certain point, however if other parameters are set too high or too low. this may doom the model to overfitting or underfitting.\n",
    "- The only way we can be sure is to try every single combination! Hence why grid search is sometimes referred to as exhaustive search.\n",
    "\n",
    "Grid Search systematically evaluates all possible combinations of hyperparameter value within a predefined grid, training and evaluating a model for each combination to identify the set that yields the optimal perfomance. This method is often employed in cojunction with cross-validation to estimate a model's generalization perfomance and select the best hyperparameter set."
   ]
  },
  {
   "cell_type": "markdown",
   "id": "f3edf0b1",
   "metadata": {},
   "source": [
    "# Understanding GridSearchCV\n",
    "GridSearchCV is a powerful tool in scikit-learn that allows for exhaustive search over specified parameter values for an estimator. It is particularly useful for hyperparameter tuning, where the goal is to find the best combination of parameters that result in the highest model performance. The GridSearchCV object takes an estimator, a parameter grid, and a scoring metric as inputs and performs a grid search over the specified parameter values, evaluating the model's performance using the chosen scoring metric. \n",
    "Simply put GridSearchCV combines K-Fold Cross-Validation with a grid search of parameters. \n",
    "\n",
    "Key components of GridSearchCV:\n",
    "\n",
    "Estimator: The machine learning model to be tuned.\n",
    "\n",
    "Param_grid: Dictionary that contains all the parameters to try.\n",
    "\n",
    "Scoring: Metric used to evaluate model performance.\n",
    "\n",
    "CV: Cross-validation strategy."
   ]
  },
  {
   "cell_type": "code",
   "execution_count": 11,
   "id": "28b0976a",
   "metadata": {},
   "outputs": [],
   "source": [
    "# Demonstration of how to use GridSearchCV\n",
    "# estimator_KNN = \n",
    "\n",
    "# parameters_KNN = {\n",
    "#     'n_neighbors': (3,5,7,9),\n",
    "#     'leaf_size': (20,40),\n",
    "#     'p': (1,2),\n",
    "#     'weights': ('uniform', 'distance'),\n",
    "#     'metric': ('minkowski', 'chebyshev'),}\n",
    "                   \n",
    "# # with GridSearch\n",
    "# grid_search_KNN = GridSearchCV(\n",
    "#     estimator= KNeighborsClassifier(algorithm='auto'),\n",
    "#     param_grid=parameters_KNN,\n",
    "#     scoring = 'accuracy',\n",
    "#     n_jobs = -1,\n",
    "#     cv = 5\n",
    "# )"
   ]
  },
  {
   "cell_type": "markdown",
   "id": "3906162a",
   "metadata": {},
   "source": [
    "## Drawbacks of GridSearchCV\n",
    "The best combination of parameters found is more of a conditional \"best\" combination. This is due to the fact that the search can only test the parameters that you fed into param_grid.\n",
    "\n",
    "The main drawback of an exhaustive search such as GridsearchCV is that there is no way of telling what's best until we've exhausted all possibilities. This means training many versions of the same machine learning model, which can be very time consuming and computationally expensive.\n",
    "\n",
    "Considering the example we had above - we have 5 different parameters with 4,2,2,2,2 variations to try respectively and we also set the model to use cross-validation with a value of 5, meaning each model will be built 5 times and their perfomances averaged together.\n",
    "\n",
    "Simple math = 4 * 2 * 2  * 2 * 2 * 5 = 320 diferent models trained.\n"
   ]
  },
  {
   "cell_type": "markdown",
   "id": "91c40fcf",
   "metadata": {},
   "source": [
    "# Pipelines\n",
    "Pipelines are extremely useful tools used to write clean and manageable code for machine learning. They are a streamlines process that automates the flow of data from raw inputs to valuable predictions or decisions, encompassing a series of steps including data collection, data preprocessing, feature engineering, model building and model evaluation.\n",
    "\n",
    "Pipeline functionality can be found in scikit-learn's Pipeline module."
   ]
  },
  {
   "cell_type": "code",
   "execution_count": 12,
   "id": "b2c6c2cb",
   "metadata": {},
   "outputs": [],
   "source": [
    "# from sklearn.pipeline import Pipeline\n",
    "# from sklearn.preprocessing import StandardScaler\n",
    "# from sklearn.neighbors import KNeighborsClassifier\n",
    "\n",
    "\n",
    "# pipe = Pipeline([\n",
    "#     ('scaler', StandardScaler(),\n",
    "#      'knn', KNeighborsClassifier())\n",
    "# ])\n",
    "\n",
    "# pipe.fit(X_train, y_train)\n",
    "\n",
    "# pipe.score(X_test,y_test)"
   ]
  },
  {
   "cell_type": "code",
   "execution_count": 13,
   "id": "1599f1d9",
   "metadata": {},
   "outputs": [],
   "source": [
    "# # Create the pipeline\n",
    "# pipe = Pipeline([\n",
    "#     ('scaler', StandardScaler(),\n",
    "#      'knn', KNeighborsClassifier())\n",
    "# ])\n",
    "\n",
    "# # Create the grid parameter\n",
    "# grid = [{'neighbors': [3,5,7,9], \n",
    "#          'weights': ['uniform', 'distance']}]\n",
    "\n",
    "\n",
    "# # Create the grid, with \"pipe\" as the estimator\n",
    "# gridsearch = GridSearchCV(estimator=pipe, \n",
    "#                           param_grid=grid, \n",
    "#                           scoring='accuracy', \n",
    "#                           cv=5)\n",
    "\n",
    "# # Fit using grid search\n",
    "# gridsearch.fit(X_train, y_train)\n",
    "\n",
    "# # Calculate the test score\n",
    "# gridsearch.score(X_test, y_test)"
   ]
  },
  {
   "cell_type": "code",
   "execution_count": 14,
   "id": "d8811957",
   "metadata": {},
   "outputs": [
    {
     "name": "stdout",
     "output_type": "stream",
     "text": [
      "<class 'pandas.core.frame.DataFrame'>\n",
      "RangeIndex: 1460 entries, 0 to 1459\n",
      "Data columns (total 81 columns):\n",
      " #   Column         Non-Null Count  Dtype  \n",
      "---  ------         --------------  -----  \n",
      " 0   Id             1460 non-null   int64  \n",
      " 1   MSSubClass     1460 non-null   int64  \n",
      " 2   MSZoning       1460 non-null   object \n",
      " 3   LotFrontage    1201 non-null   float64\n",
      " 4   LotArea        1460 non-null   int64  \n",
      " 5   Street         1460 non-null   object \n",
      " 6   Alley          91 non-null     object \n",
      " 7   LotShape       1460 non-null   object \n",
      " 8   LandContour    1460 non-null   object \n",
      " 9   Utilities      1460 non-null   object \n",
      " 10  LotConfig      1460 non-null   object \n",
      " 11  LandSlope      1460 non-null   object \n",
      " 12  Neighborhood   1460 non-null   object \n",
      " 13  Condition1     1460 non-null   object \n",
      " 14  Condition2     1460 non-null   object \n",
      " 15  BldgType       1460 non-null   object \n",
      " 16  HouseStyle     1460 non-null   object \n",
      " 17  OverallQual    1460 non-null   int64  \n",
      " 18  OverallCond    1460 non-null   int64  \n",
      " 19  YearBuilt      1460 non-null   int64  \n",
      " 20  YearRemodAdd   1460 non-null   int64  \n",
      " 21  RoofStyle      1460 non-null   object \n",
      " 22  RoofMatl       1460 non-null   object \n",
      " 23  Exterior1st    1460 non-null   object \n",
      " 24  Exterior2nd    1460 non-null   object \n",
      " 25  MasVnrType     1452 non-null   object \n",
      " 26  MasVnrArea     1452 non-null   float64\n",
      " 27  ExterQual      1460 non-null   object \n",
      " 28  ExterCond      1460 non-null   object \n",
      " 29  Foundation     1460 non-null   object \n",
      " 30  BsmtQual       1423 non-null   object \n",
      " 31  BsmtCond       1423 non-null   object \n",
      " 32  BsmtExposure   1422 non-null   object \n",
      " 33  BsmtFinType1   1423 non-null   object \n",
      " 34  BsmtFinSF1     1460 non-null   int64  \n",
      " 35  BsmtFinType2   1422 non-null   object \n",
      " 36  BsmtFinSF2     1460 non-null   int64  \n",
      " 37  BsmtUnfSF      1460 non-null   int64  \n",
      " 38  TotalBsmtSF    1460 non-null   int64  \n",
      " 39  Heating        1460 non-null   object \n",
      " 40  HeatingQC      1460 non-null   object \n",
      " 41  CentralAir     1460 non-null   object \n",
      " 42  Electrical     1459 non-null   object \n",
      " 43  1stFlrSF       1460 non-null   int64  \n",
      " 44  2ndFlrSF       1460 non-null   int64  \n",
      " 45  LowQualFinSF   1460 non-null   int64  \n",
      " 46  GrLivArea      1460 non-null   int64  \n",
      " 47  BsmtFullBath   1460 non-null   int64  \n",
      " 48  BsmtHalfBath   1460 non-null   int64  \n",
      " 49  FullBath       1460 non-null   int64  \n",
      " 50  HalfBath       1460 non-null   int64  \n",
      " 51  BedroomAbvGr   1460 non-null   int64  \n",
      " 52  KitchenAbvGr   1460 non-null   int64  \n",
      " 53  KitchenQual    1460 non-null   object \n",
      " 54  TotRmsAbvGrd   1460 non-null   int64  \n",
      " 55  Functional     1460 non-null   object \n",
      " 56  Fireplaces     1460 non-null   int64  \n",
      " 57  FireplaceQu    770 non-null    object \n",
      " 58  GarageType     1379 non-null   object \n",
      " 59  GarageYrBlt    1379 non-null   float64\n",
      " 60  GarageFinish   1379 non-null   object \n",
      " 61  GarageCars     1460 non-null   int64  \n",
      " 62  GarageArea     1460 non-null   int64  \n",
      " 63  GarageQual     1379 non-null   object \n",
      " 64  GarageCond     1379 non-null   object \n",
      " 65  PavedDrive     1460 non-null   object \n",
      " 66  WoodDeckSF     1460 non-null   int64  \n",
      " 67  OpenPorchSF    1460 non-null   int64  \n",
      " 68  EnclosedPorch  1460 non-null   int64  \n",
      " 69  3SsnPorch      1460 non-null   int64  \n",
      " 70  ScreenPorch    1460 non-null   int64  \n",
      " 71  PoolArea       1460 non-null   int64  \n",
      " 72  PoolQC         7 non-null      object \n",
      " 73  Fence          281 non-null    object \n",
      " 74  MiscFeature    54 non-null     object \n",
      " 75  MiscVal        1460 non-null   int64  \n",
      " 76  MoSold         1460 non-null   int64  \n",
      " 77  YrSold         1460 non-null   int64  \n",
      " 78  SaleType       1460 non-null   object \n",
      " 79  SaleCondition  1460 non-null   object \n",
      " 80  SalePrice      1460 non-null   int64  \n",
      "dtypes: float64(3), int64(35), object(43)\n",
      "memory usage: 924.0+ KB\n"
     ]
    }
   ],
   "source": [
    "import pandas as pd\n",
    "from sklearn.model_selection import train_test_split, GridSearchCV\n",
    "from sklearn.preprocessing import StandardScaler, OneHotEncoder\n",
    "from sklearn.compose import ColumnTransformer\n",
    "from sklearn.pipeline import Pipeline\n",
    "from sklearn.impute import SimpleImputer\n",
    "from sklearn.neighbors import KNeighborsRegressor\n",
    "from sklearn.metrics import mean_absolute_error, mean_squared_error, r2_score\n",
    "\n",
    "\n",
    "ames_data = pd.read_csv('ames.csv')\n",
    "ames_data.head()\n",
    "ames_data.info()\n"
   ]
  },
  {
   "cell_type": "code",
   "execution_count": 15,
   "id": "3e914f46",
   "metadata": {},
   "outputs": [
    {
     "name": "stdout",
     "output_type": "stream",
     "text": [
      "Fitting 3 folds for each of 16 candidates, totalling 48 fits\n"
     ]
    },
    {
     "name": "stderr",
     "output_type": "stream",
     "text": [
      "[Parallel(n_jobs=-1)]: Using backend LokyBackend with 8 concurrent workers.\n"
     ]
    },
    {
     "name": "stdout",
     "output_type": "stream",
     "text": [
      "{'knn__n_neighbors': 3, 'knn__p': 1, 'knn__weights': 'distance'}\n"
     ]
    },
    {
     "name": "stderr",
     "output_type": "stream",
     "text": [
      "[Parallel(n_jobs=-1)]: Done  48 out of  48 | elapsed:    5.4s finished\n"
     ]
    }
   ],
   "source": [
    "X = ames_data.drop(columns=['Id', 'SalePrice','Alley','FireplaceQu','PoolQC','Fence'])\n",
    "y = ames_data['SalePrice']\n",
    "\n",
    "X_train, X_test, y_train, y_test = train_test_split(X, y, test_size=0.2, random_state=42)\n",
    "\n",
    "categorical_cols = X.select_dtypes(include=['object']).columns\n",
    "numerical_cols = X.select_dtypes(exclude=['object']).columns\n",
    "\n",
    "numerical_pipeline = Pipeline(steps=[\n",
    "    ('imputer', SimpleImputer(strategy='mean')),  \n",
    "    ('scaler', StandardScaler())  \n",
    "])\n",
    "\n",
    "categorical_pipeline = Pipeline(steps=[\n",
    "    ('imputer', SimpleImputer(strategy='most_frequent')),  \n",
    "    ('onehot', OneHotEncoder(handle_unknown='ignore'))  \n",
    "])\n",
    "\n",
    "preprocessor = ColumnTransformer(\n",
    "    transformers=[\n",
    "        ('num', numerical_pipeline, numerical_cols),\n",
    "        ('cat', categorical_pipeline, categorical_cols)\n",
    "    ])\n",
    "\n",
    "model_pipeline = Pipeline(steps=[\n",
    "    ('preprocessor', preprocessor),\n",
    "    ('knn', KNeighborsRegressor())\n",
    "])\n",
    "\n",
    "param_grid = {\n",
    "    'knn__n_neighbors': [3, 5, 7, 9],\n",
    "    'knn__weights': ['uniform', 'distance'],\n",
    "    'knn__p': [1, 2]  \n",
    "}\n",
    "\n",
    "grid_search = GridSearchCV(model_pipeline, param_grid, cv=3, n_jobs=-1, verbose=1)\n",
    "\n",
    "grid_search.fit(X_train, y_train)\n",
    "\n",
    "best_params = grid_search.best_params_\n",
    "\n",
    "print(best_params)\n",
    "\n",
    "y_pred = grid_search.predict(X_test)\n",
    "\n",
    "mae = mean_absolute_error(y_test, y_pred)\n",
    "mse = mean_squared_error(y_test, y_pred)\n",
    "rmse = mean_squared_error(y_test, y_pred, squared=False)\n",
    "r2 = r2_score(y_test, y_pred)\n",
    "\n"
   ]
  },
  {
   "cell_type": "code",
   "execution_count": null,
   "id": "10f49f5d",
   "metadata": {},
   "outputs": [],
   "source": []
  }
 ],
 "metadata": {
  "kernelspec": {
   "display_name": "learn-env",
   "language": "python",
   "name": "python3"
  },
  "language_info": {
   "codemirror_mode": {
    "name": "ipython",
    "version": 3
   },
   "file_extension": ".py",
   "mimetype": "text/x-python",
   "name": "python",
   "nbconvert_exporter": "python",
   "pygments_lexer": "ipython3",
   "version": "3.8.5"
  }
 },
 "nbformat": 4,
 "nbformat_minor": 5
}
