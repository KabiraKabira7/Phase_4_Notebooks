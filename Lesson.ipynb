{
  "cells": [
    {
      "cell_type": "markdown",
      "metadata": {},
      "source": [
        "## Common Ensemble Techniques:\n"
      ]
    },
    {
      "cell_type": "markdown",
      "id": "ab6aaa16",
      "metadata": {},
      "source": [
        "- Bagging:\n",
        "- Stacking:\n",
        "- Boosting:\n"
      ]
    },
    {
      "cell_type": "markdown",
      "id": "4a09967a",
      "metadata": {},
      "source": [
        "Boosting:\n",
        "Sequentially trains models, giving more weight to misclassified instances in previous models (e.g., AdaBoost, Gradient\n",
        "Boosting).\n"
      ]
    },
    {
      "cell_type": "markdown",
      "id": "06a60f15",
      "metadata": {},
      "source": [
        "Stacking:\n",
        "Trains multiple diverse models and then trains a meta-model on top of their predictions.\n"
      ]
    },
    {
      "cell_type": "markdown",
      "id": "f7df0003",
      "metadata": {},
      "source": [
        "Bagging:\n",
        "Trains multiple models on different random subsets of the data and averages their predictions (e.g., Random Forest).\n"
      ]
    },
    {
      "cell_type": "markdown",
      "id": "a1934737",
      "metadata": {},
      "source": [
        "## KNN\n"
      ]
    },
    {
      "cell_type": "markdown",
      "id": "dd5fdb38",
      "metadata": {},
      "source": [
        "### Genarate Synthetic Data"
      ]
    },
    {
      "cell_type": "code",
      "execution_count": 17,
      "id": "6192eac1",
      "metadata": {},
      "outputs": [],
      "source": [
        "import warnings\n",
        "warnings.filterwarnings('ignore')"
      ]
    },
    {
      "cell_type": "code",
      "execution_count": 18,
      "id": "70f389cc",
      "metadata": {},
      "outputs": [],
      "source": [
        "import numpy as np\n",
        "import matplotlib.pyplot as plt\n",
        "from sklearn.neighbors import KNeighborsRegressor\n",
        "from sklearn.model_selection import train_test_split\n",
        "\n",
        "# Create curved data\n",
        "X = np.linspace(0, 10, 100).reshape(-1, 1) # 100 points between 0 and 10\n",
        "y = np.sin(X).ravel() + np.random.normal(0, 0.1, X.shape[0]) # sine curve with noise\n",
        "\n",
        "# Split into training and test sets\n",
        "X_train, X_test, y_train, y_test = train_test_split(X, y, test_size=0.2, random_state=42)\n"
      ]
    },
    {
      "cell_type": "code",
      "execution_count": 19,
      "id": "856adbb7",
      "metadata": {},
      "outputs": [
        {
          "data": {
            "text/plain": [
              "array([[ 0.        ],\n",
              "       [ 0.1010101 ],\n",
              "       [ 0.2020202 ],\n",
              "       [ 0.3030303 ],\n",
              "       [ 0.4040404 ],\n",
              "       [ 0.50505051],\n",
              "       [ 0.60606061],\n",
              "       [ 0.70707071],\n",
              "       [ 0.80808081],\n",
              "       [ 0.90909091],\n",
              "       [ 1.01010101],\n",
              "       [ 1.11111111],\n",
              "       [ 1.21212121],\n",
              "       [ 1.31313131],\n",
              "       [ 1.41414141],\n",
              "       [ 1.51515152],\n",
              "       [ 1.61616162],\n",
              "       [ 1.71717172],\n",
              "       [ 1.81818182],\n",
              "       [ 1.91919192],\n",
              "       [ 2.02020202],\n",
              "       [ 2.12121212],\n",
              "       [ 2.22222222],\n",
              "       [ 2.32323232],\n",
              "       [ 2.42424242],\n",
              "       [ 2.52525253],\n",
              "       [ 2.62626263],\n",
              "       [ 2.72727273],\n",
              "       [ 2.82828283],\n",
              "       [ 2.92929293],\n",
              "       [ 3.03030303],\n",
              "       [ 3.13131313],\n",
              "       [ 3.23232323],\n",
              "       [ 3.33333333],\n",
              "       [ 3.43434343],\n",
              "       [ 3.53535354],\n",
              "       [ 3.63636364],\n",
              "       [ 3.73737374],\n",
              "       [ 3.83838384],\n",
              "       [ 3.93939394],\n",
              "       [ 4.04040404],\n",
              "       [ 4.14141414],\n",
              "       [ 4.24242424],\n",
              "       [ 4.34343434],\n",
              "       [ 4.44444444],\n",
              "       [ 4.54545455],\n",
              "       [ 4.64646465],\n",
              "       [ 4.74747475],\n",
              "       [ 4.84848485],\n",
              "       [ 4.94949495],\n",
              "       [ 5.05050505],\n",
              "       [ 5.15151515],\n",
              "       [ 5.25252525],\n",
              "       [ 5.35353535],\n",
              "       [ 5.45454545],\n",
              "       [ 5.55555556],\n",
              "       [ 5.65656566],\n",
              "       [ 5.75757576],\n",
              "       [ 5.85858586],\n",
              "       [ 5.95959596],\n",
              "       [ 6.06060606],\n",
              "       [ 6.16161616],\n",
              "       [ 6.26262626],\n",
              "       [ 6.36363636],\n",
              "       [ 6.46464646],\n",
              "       [ 6.56565657],\n",
              "       [ 6.66666667],\n",
              "       [ 6.76767677],\n",
              "       [ 6.86868687],\n",
              "       [ 6.96969697],\n",
              "       [ 7.07070707],\n",
              "       [ 7.17171717],\n",
              "       [ 7.27272727],\n",
              "       [ 7.37373737],\n",
              "       [ 7.47474747],\n",
              "       [ 7.57575758],\n",
              "       [ 7.67676768],\n",
              "       [ 7.77777778],\n",
              "       [ 7.87878788],\n",
              "       [ 7.97979798],\n",
              "       [ 8.08080808],\n",
              "       [ 8.18181818],\n",
              "       [ 8.28282828],\n",
              "       [ 8.38383838],\n",
              "       [ 8.48484848],\n",
              "       [ 8.58585859],\n",
              "       [ 8.68686869],\n",
              "       [ 8.78787879],\n",
              "       [ 8.88888889],\n",
              "       [ 8.98989899],\n",
              "       [ 9.09090909],\n",
              "       [ 9.19191919],\n",
              "       [ 9.29292929],\n",
              "       [ 9.39393939],\n",
              "       [ 9.49494949],\n",
              "       [ 9.5959596 ],\n",
              "       [ 9.6969697 ],\n",
              "       [ 9.7979798 ],\n",
              "       [ 9.8989899 ],\n",
              "       [10.        ]])"
            ]
          },
          "execution_count": 19,
          "metadata": {},
          "output_type": "execute_result"
        }
      ],
      "source": [
        "X"
      ]
    },
    {
      "cell_type": "code",
      "execution_count": 20,
      "id": "52302702",
      "metadata": {},
      "outputs": [
        {
          "data": {
            "text/plain": [
              "array([-0.04764921,  0.17114369,  0.13701593,  0.35129337,  0.34598396,\n",
              "        0.53941283,  0.49122955,  0.63892391,  0.66000042,  0.86662622,\n",
              "        0.66437896,  0.91071582,  0.84900448,  0.89055365,  0.95212918,\n",
              "        1.02993971,  1.03155376,  0.995066  ,  0.95152494,  0.91686686,\n",
              "        0.7699169 ,  1.12613693,  0.93740205,  0.77618311,  0.75934327,\n",
              "        0.5858309 ,  0.28124503,  0.67928461,  0.46873476,  0.18525797,\n",
              "        0.08711351,  0.07056378,  0.17569158, -0.06592363, -0.27054164,\n",
              "       -0.44529624, -0.49573865, -0.54490416, -0.54871619, -0.89846467,\n",
              "       -0.94866003, -0.76078535, -0.90242078, -0.8325068 , -0.99839364,\n",
              "       -0.98276046, -0.76506508, -0.93059617, -0.95675099, -1.10548387,\n",
              "       -0.98209312, -0.98164769, -0.81090699, -0.81770464, -0.84583623,\n",
              "       -0.80588504, -0.45756455, -0.52033005, -0.51816308, -0.39493554,\n",
              "       -0.31627691, -0.18118531,  0.05955446, -0.1980416 ,  0.33024605,\n",
              "        0.39813327,  0.43694315,  0.49730828,  0.4558416 ,  0.49100447,\n",
              "        0.76405706,  0.92398624,  0.92053559,  1.03138083,  1.03291653,\n",
              "        0.94155305,  1.01268907,  0.92639884,  1.00443121,  0.93428009,\n",
              "        0.77334288,  0.85087205,  0.76796791,  0.76711616,  0.70264479,\n",
              "        0.7899161 ,  0.48136605,  0.72291239,  0.37707621,  0.5450218 ,\n",
              "        0.28252155,  0.35988132,  0.09548528, -0.19716383, -0.09587532,\n",
              "       -0.17012755, -0.46190764, -0.26217365, -0.4409362 , -0.53853166])"
            ]
          },
          "execution_count": 20,
          "metadata": {},
          "output_type": "execute_result"
        }
      ],
      "source": [
        "y"
      ]
    },
    {
      "cell_type": "markdown",
      "id": "d215656a",
      "metadata": {},
      "source": [
        "### Training KNN for Regression\n"
      ]
    },
    {
      "cell_type": "code",
      "execution_count": 21,
      "id": "deb375af",
      "metadata": {},
      "outputs": [
        {
          "data": {
            "image/png": "[encoded data removed]",
            "text/plain": [
              "<Figure size 1500x500 with 1 Axes>"
            ]
          },
          "metadata": {},
          "output_type": "display_data"
        }
      ],
      "source": [
        "# Try different values of k\n",
        "k_values = [1, 3, 10]\n",
        "\n",
        "plt.figure(figsize=(15, 5))\n",
        "\n",
        "for i, k in enumerate(k_values, 1):\n",
        "    knn = KNeighborsRegressor(n_neighbors=k)\n",
        "    knn.fit(X_train, y_train)\n",
        "    y_pred = knn.predict(X)\n",
        "\n",
        "plt.subplot(1, 3, i)\n",
        "plt.scatter(X_train, y_train, label=\"Train\", alpha=0.6)\n",
        "plt.plot(X, y_pred, color='red', label=f'K={k}')\n",
        "plt.title(f'KNN with K={k}')\n",
        "plt.legend()\n",
        "\n",
        "plt.tight_layout()\n",
        "plt.show()\n"
      ]
    },
    {
      "cell_type": "markdown",
      "id": "f5f0c95a",
      "metadata": {},
      "source": [
        "## Distance Metrics (How do we find the \"nearest\"?)\n",
        "\n",
        "### A. Euclidean Distance"
      ]
    },
    {
      "cell_type": "code",
      "execution_count": 22,
      "id": "639af762",
      "metadata": {},
      "outputs": [
        {
          "name": "stdout",
          "output_type": "stream",
          "text": [
            "5.0\n"
          ]
        }
      ],
      "source": [
        "import numpy as np\n",
        "\n",
        "point1 = np.array([3, 4])\n",
        "point2 = np.array([0, 0])\n",
        "\n",
        "distance = np.sqrt(np.sum((point1 - point2)**2)) \n",
        "# [9, 16] \n",
        "#  Add 25\n",
        "#  5\n",
        "print(distance) # Output: 5.0\n"
      ]
    },
    {
      "cell_type": "markdown",
      "id": "8661a237",
      "metadata": {},
      "source": [
        "## B. Manhatan Distance"
      ]
    },
    {
      "cell_type": "markdown",
      "id": "c1b84b76",
      "metadata": {},
      "source": [
        "## C. Minkowski"
      ]
    },
    {
      "cell_type": "markdown",
      "id": "5d4cea8d",
      "metadata": {},
      "source": [
        "### KNN Classification on Iris Dataset"
      ]
    },
    {
      "cell_type": "code",
      "execution_count": 23,
      "id": "bc662275",
      "metadata": {},
      "outputs": [],
      "source": [
        "from sklearn.datasets import load_iris\n",
        "from sklearn.model_selection import train_test_split\n",
        "from sklearn.neighbors import KNeighborsClassifier\n",
        "from sklearn.metrics import classification_report, ConfusionMatrixDisplay\n",
        "\n",
        "# Load dataset\n",
        "iris = load_iris()\n",
        "X = iris.data # features: sepal/petal size\n",
        "y = iris.target # class: 0=setosa, 1=versicolor, 2=virginica\n",
        "\n",
        "# Train-test split\n",
        "X_train, X_test, y_train, y_test = train_test_split(X, y, test_size=0.3, random_state=42)\n",
        "\n",
        "# Train KNN Classifier\n",
        "knn = KNeighborsClassifier(n_neighbors=5)\n",
        "knn.fit(X_train, y_train)\n",
        "\n",
        "# Predict\n",
        "y_pred = knn.predict(X_test)"
      ]
    },
    {
      "cell_type": "markdown",
      "id": "5cf0f3ec",
      "metadata": {},
      "source": [
        "### Evaluate the Classifier"
      ]
    },
    {
      "cell_type": "code",
      "execution_count": 24,
      "id": "3f1e6dd3",
      "metadata": {},
      "outputs": [
        {
          "name": "stdout",
          "output_type": "stream",
          "text": [
            "              precision    recall  f1-score   support\n",
            "\n",
            "      setosa       1.00      1.00      1.00        19\n",
            "  versicolor       1.00      1.00      1.00        13\n",
            "   virginica       1.00      1.00      1.00        13\n",
            "\n",
            "    accuracy                           1.00        45\n",
            "   macro avg       1.00      1.00      1.00        45\n",
            "weighted avg       1.00      1.00      1.00        45\n",
            "\n"
          ]
        },
        {
          "data": {
            "text/plain": [
              "<sklearn.metrics._plot.confusion_matrix.ConfusionMatrixDisplay at 0x19e7a970d40>"
            ]
          },
          "execution_count": 24,
          "metadata": {},
          "output_type": "execute_result"
        },
        {
          "data": {
            "image/png": "[encoded data removed]",
            "text/plain": [
              "<Figure size 640x480 with 2 Axes>"
            ]
          },
          "metadata": {},
          "output_type": "display_data"
        }
      ],
      "source": [
        "# Classification report (accuracy, precision, recall, F1)\n",
        "print(classification_report(y_test, y_pred, target_names=iris.target_names))\n",
        "\n",
        "# Confusion Matrix\n",
        "ConfusionMatrixDisplay.from_predictions(y_test, y_pred, display_labels=iris.target_names)"
      ]
    },
    {
      "cell_type": "markdown",
      "id": "d5f1b91c",
      "metadata": {},
      "source": [
        "## Recommendation Systems"
      ]
    },
    {
      "cell_type": "markdown",
      "id": "b8e54780",
      "metadata": {},
      "source": [
        "\n",
        "* **Content-Based Filtering**: Suggests items based on what *you* liked.\n",
        "* **Collaborative Filtering**: Suggests items based on what *others like you* liked."
      ]
    },
    {
      "cell_type": "markdown",
      "id": "12a72205",
      "metadata": {},
      "source": [
        "|Users| Movie A | Movie B | Movie C |\n",
        "|--------| -------- | -------- | -------- |\n",
        "|User 1 | 5  | 3  | ? |\n",
        "|User 2  | 4  | ?  | 2 |\n",
        "|User 3 | ? | 3  | 3 |"
      ]
    },
    {
      "cell_type": "markdown",
      "id": "85105b87",
      "metadata": {},
      "source": [
        "### What Is SVD?\n"
      ]
    },
    {
      "cell_type": "markdown",
      "id": "06ca0068",
      "metadata": {},
      "source": [
        "SVD (Singular Value Decomposition)\n"
      ]
    },
    {
      "cell_type": "markdown",
      "id": "c4c93d10",
      "metadata": {},
      "source": [
        "$$\n",
        "R \\approx U \\cdot \\Sigma \\cdot V^T\n",
        "$$\n"
      ]
    },
    {
      "cell_type": "code",
      "execution_count": 25,
      "id": "0014caec",
      "metadata": {},
      "outputs": [],
      "source": [
        "from surprise import SVD, Dataset, Reader\n",
        "from surprise.model_selection import cross_validate\n",
        "import pandas as pd\n"
      ]
    },
    {
      "cell_type": "code",
      "execution_count": 26,
      "id": "e8ca9a25",
      "metadata": {},
      "outputs": [],
      "source": [
        "# Sample data\n",
        "ratings_dict = {\n",
        "\"user\": [\"Alice\", \"Alice\", \"Bob\", \"Bob\", \"Carol\"],\n",
        "\"item\": [\"Movie1\", \"Movie3\", \"Movie1\", \"Movie2\", \"Movie2\"],\n",
        "\"rating\": [4, 5, 5, 3, 4]\n",
        "}\n",
        "\n",
        "df = pd.DataFrame(ratings_dict)\n",
        "\n",
        "# Create Reader object\n",
        "reader = Reader(rating_scale=(1, 5))\n",
        "\n",
        "# Load data\n",
        "data = Dataset.load_from_df(df[[\"user\", \"item\", \"rating\"]], reader)\n"
      ]
    },
    {
      "cell_type": "code",
      "execution_count": 27,
      "id": "6240a712",
      "metadata": {},
      "outputs": [
        {
          "data": {
            "text/html": [
              "<div>\n",
              "<style scoped>\n",
              "    .dataframe tbody tr th:only-of-type {\n",
              "        vertical-align: middle;\n",
              "    }\n",
              "\n",
              "    .dataframe tbody tr th {\n",
              "        vertical-align: top;\n",
              "    }\n",
              "\n",
              "    .dataframe thead th {\n",
              "        text-align: right;\n",
              "    }\n",
              "</style>\n",
              "<table border=\"1\" class=\"dataframe\">\n",
              "  <thead>\n",
              "    <tr style=\"text-align: right;\">\n",
              "      <th></th>\n",
              "      <th>user</th>\n",
              "      <th>item</th>\n",
              "      <th>rating</th>\n",
              "    </tr>\n",
              "  </thead>\n",
              "  <tbody>\n",
              "    <tr>\n",
              "      <th>0</th>\n",
              "      <td>Alice</td>\n",
              "      <td>Movie1</td>\n",
              "      <td>4</td>\n",
              "    </tr>\n",
              "    <tr>\n",
              "      <th>1</th>\n",
              "      <td>Alice</td>\n",
              "      <td>Movie3</td>\n",
              "      <td>5</td>\n",
              "    </tr>\n",
              "    <tr>\n",
              "      <th>2</th>\n",
              "      <td>Bob</td>\n",
              "      <td>Movie1</td>\n",
              "      <td>5</td>\n",
              "    </tr>\n",
              "    <tr>\n",
              "      <th>3</th>\n",
              "      <td>Bob</td>\n",
              "      <td>Movie2</td>\n",
              "      <td>3</td>\n",
              "    </tr>\n",
              "    <tr>\n",
              "      <th>4</th>\n",
              "      <td>Carol</td>\n",
              "      <td>Movie2</td>\n",
              "      <td>4</td>\n",
              "    </tr>\n",
              "  </tbody>\n",
              "</table>\n",
              "</div>"
            ],
            "text/plain": [
              "    user    item  rating\n",
              "0  Alice  Movie1       4\n",
              "1  Alice  Movie3       5\n",
              "2    Bob  Movie1       5\n",
              "3    Bob  Movie2       3\n",
              "4  Carol  Movie2       4"
            ]
          },
          "execution_count": 27,
          "metadata": {},
          "output_type": "execute_result"
        }
      ],
      "source": [
        "df"
      ]
    },
    {
      "cell_type": "code",
      "execution_count": 28,
      "id": "d6c5cb7f",
      "metadata": {},
      "outputs": [
        {
          "name": "stdout",
          "output_type": "stream",
          "text": [
            "Evaluating RMSE, MAE of algorithm SVD on 5 split(s).\n",
            "\n",
            "                  Fold 1  Fold 2  Fold 3  Fold 4  Fold 5  Mean    Std     \n",
            "RMSE (testset)    1.3063  0.1432  0.3288  1.2761  1.0120  0.8133  0.4859  \n",
            "MAE (testset)     1.3063  0.1432  0.3288  1.2761  1.0120  0.8133  0.4859  \n",
            "Fit time          0.00    0.00    0.00    0.00    0.00    0.00    0.00    \n",
            "Test time         0.00    0.00    0.00    0.00    0.00    0.00    0.00    \n"
          ]
        },
        {
          "data": {
            "text/plain": [
              "{'test_rmse': array([1.30628961, 0.14321265, 0.32880892, 1.27608835, 1.0120016 ]),\n",
              " 'test_mae': array([1.30628961, 0.14321265, 0.32880892, 1.27608835, 1.0120016 ]),\n",
              " 'fit_time': (0.0010001659393310547, 0.0, 0.0, 0.0, 0.0),\n",
              " 'test_time': (0.0, 0.0, 0.0, 0.0009996891021728516, 0.0)}"
            ]
          },
          "execution_count": 28,
          "metadata": {},
          "output_type": "execute_result"
        }
      ],
      "source": [
        "# Use SVD algorithm\n",
        "model = SVD()\n",
        "\n",
        "# Evaluate model using 5-fold cross-validation\n",
        "cross_validate(model, data, measures=['RMSE', 'MAE'], cv=5, verbose=True)\n"
      ]
    },
    {
      "cell_type": "markdown",
      "id": "98f1f2cc",
      "metadata": {},
      "source": []
    },
    {
      "cell_type": "markdown",
      "id": "cfbfe989",
      "metadata": {},
      "source": [
        "### Making Predictions\n"
      ]
    },
    {
      "cell_type": "code",
      "execution_count": 29,
      "id": "a612985f",
      "metadata": {},
      "outputs": [
        {
          "name": "stdout",
          "output_type": "stream",
          "text": [
            "4.2068469540547495\n"
          ]
        }
      ],
      "source": [
        "# Train on full data\n",
        "trainset = data.build_full_trainset()\n",
        "model.fit(trainset)\n",
        "\n",
        "# Predict rating for Carol on Movie3\n",
        "prediction = model.predict(\"Carol\", \"Movie3\")\n",
        "print(prediction.est) # e.g., 4.12\n"
      ]
    },
    {
      "cell_type": "markdown",
      "id": "6e29a7e9",
      "metadata": {},
      "source": [
        "### Collaborative Filtering with Alternating Least Squares (ALS)"
      ]
    },
    {
      "cell_type": "markdown",
      "id": "febcd8ee",
      "metadata": {},
      "source": [
        "|Users| Book A | Book B | Book C |\n",
        "|--------| -------- | -------- | -------- |\n",
        "|User 1 | 5  | 2  | ? |\n",
        "|User 2  | ?  | ?  | 4|\n",
        "|User 3 | 1 | 2  | ? |"
      ]
    },
    {
      "cell_type": "markdown",
      "id": "883a1e9f",
      "metadata": {},
      "source": [
        "### How ALS Works\n",
        "(The Math Behind ALS)\n"
      ]
    },
    {
      "cell_type": "markdown",
      "id": "49783200",
      "metadata": {},
      "source": [
        "- The Matrix Factorization Formula\n",
        "\n",
        "$$\n",
        "R \\approx U \\cdot V^T\n",
        "$$"
      ]
    },
    {
      "cell_type": "markdown",
      "id": "de3f76f0",
      "metadata": {},
      "source": [
        "### Implementation - ALS Using implicit Library\n"
      ]
    },
    {
      "cell_type": "code",
      "execution_count": 30,
      "id": "be114102",
      "metadata": {},
      "outputs": [
        {
          "data": {
            "application/vnd.jupyter.widget-view+json": {
              "model_id": "f8051cc633b84ef1ab60ce33e812c13d",
              "version_major": 2,
              "version_minor": 0
            },
            "text/plain": [
              "  0%|          | 0/15 [00:00<?, ?it/s]"
            ]
          },
          "metadata": {},
          "output_type": "display_data"
        },
        {
          "name": "stdout",
          "output_type": "stream",
          "text": [
            "Recommendations for user 0: (array([1, 2, 0]), array([ 1.4901161e-07, -3.4028235e+38, -3.4028235e+38], dtype=float32))\n"
          ]
        }
      ],
      "source": [
        "import implicit\n",
        "import scipy.sparse as sparse\n",
        "\n",
        "# Data \n",
        "user_ids = [0, 0, 1, 1, 2, 2]\n",
        "item_ids = [0, 2, 1, 3, 0, 2]\n",
        "ratings = [5, 2, 3, 4, 1, 2]\n",
        "\n",
        "# Item-user matrix (items × users)\n",
        "item_user_matrix = sparse.coo_matrix((ratings, (item_ids, user_ids))).tocsr()\n",
        "\n",
        "# ALS model\n",
        "model = implicit.als.AlternatingLeastSquares(factors=10, regularization=0.1, iterations=15)\n",
        "\n",
        "# Confidence weighting\n",
        "item_user_confidence = (item_user_matrix * 10).astype('double')\n",
        "\n",
        "# Fit\n",
        "model.fit(item_user_confidence)\n",
        "\n",
        "# Recommend for a specific user\n",
        "user_id = 0\n",
        "user_vector = item_user_matrix.T.tocsr()[user_id]  # only that user's row\n",
        "recommendations = model.recommend(user_id, user_vector, N=3)\n",
        "\n",
        "print(\"Recommendations for user 0:\", recommendations)\n"
      ]
    },
    {
      "cell_type": "markdown",
      "id": "6f6f5ad7",
      "metadata": {},
      "source": [
        "### Alternating Least Squares (ALS) with the MovieLens Dataset\n"
      ]
    },
    {
      "cell_type": "code",
      "execution_count": null,
      "id": "d6380465",
      "metadata": {},
      "outputs": [],
      "source": [
        "from pyspark.sql import SparkSession\n",
        "\n",
        "# Start a Spark session\n",
        "spark = SparkSession.builder.appName(\"ALSExample\").getOrCreate()\n",
        "\n",
        "# Load the MovieLens 100k dataset\n",
        "ratings = spark.read.csv('u.data', sep='\\t', inferSchema=True)\n",
        "ratings = ratings.withColumnRenamed(\"_c0\", \"userId\") \\\n",
        ".withColumnRenamed(\"_c1\", \"movieId\") \\\n",
        ".withColumnRenamed(\"_c2\", \"rating\") \\\n",
        ".withColumnRenamed(\"_c3\", \"timestamp\")\n"
      ]
    },
    {
      "cell_type": "code",
      "execution_count": null,
      "id": "cdd1e324",
      "metadata": {},
      "outputs": [],
      "source": [
        "ratings.show(5)"
      ]
    },
    {
      "cell_type": "code",
      "execution_count": null,
      "id": "5e12ce70",
      "metadata": {},
      "outputs": [],
      "source": [
        "ratings.printSchema()\n"
      ]
    },
    {
      "cell_type": "markdown",
      "id": "7ff305f3",
      "metadata": {},
      "source": [
        "### Train-Test Split\n"
      ]
    },
    {
      "cell_type": "code",
      "execution_count": null,
      "id": "a9b93a02",
      "metadata": {},
      "outputs": [],
      "source": [
        "(training, test) = ratings.randomSplit([0.8, 0.2])\n"
      ]
    },
    {
      "cell_type": "code",
      "execution_count": null,
      "id": "f8639178",
      "metadata": {},
      "outputs": [],
      "source": [
        "from pyspark.ml.recommendation import ALS\n",
        "\n",
        "als = ALS(\n",
        "userCol=\"userId\",\n",
        "itemCol=\"movieId\",\n",
        "ratingCol=\"rating\",\n",
        "rank=10, # number of latent factors\n",
        "maxIter=10, # number of iterations\n",
        "regParam=0.1, # regularization to avoid overfitting\n",
        "coldStartStrategy=\"drop\", # drop NaNs during evaluation\n",
        "nonnegative=True\n",
        ")\n",
        "model = als.fit(training)\n"
      ]
    },
    {
      "cell_type": "markdown",
      "id": "7d6523a2",
      "metadata": {},
      "source": [
        "### Make Predictions\n"
      ]
    },
    {
      "cell_type": "code",
      "execution_count": null,
      "id": "abb6985a",
      "metadata": {},
      "outputs": [],
      "source": [
        "predictions = model.transform(test)\n",
        "predictions.show(5)\n"
      ]
    },
    {
      "cell_type": "markdown",
      "id": "e0a1cfdc",
      "metadata": {},
      "source": [
        "### Evaluate the Model\n"
      ]
    },
    {
      "cell_type": "code",
      "execution_count": null,
      "id": "57e87b4c",
      "metadata": {},
      "outputs": [],
      "source": [
        "from pyspark.ml.evaluation import RegressionEvaluator\n",
        "\n",
        "evaluator = RegressionEvaluator(\n",
        "metricName=\"rmse\",\n",
        "labelCol=\"rating\",\n",
        "predictionCol=\"prediction\"\n",
        ")\n",
        "\n",
        "rmse = evaluator.evaluate(predictions)\n",
        "print(f\"Root Mean Squared Error (RMSE): {rmse}\")\n"
      ]
    },
    {
      "cell_type": "markdown",
      "id": "34723b25",
      "metadata": {},
      "source": [
        "| Feature | SVD | ALS |\n",
        "|---|---|---|\n",
        "| Handles missing values | No (requires imputation first) | Yes (works with sparse matrices) |\n",
        "| Works with implicit data | Not designed for it | Yes |\n",
        "| Scalable to big data | Limited (not scalable) | Yes (used in Spark) |\n",
        "| Interpretability | Eigenvalues give insight | Latent features are interpretable |\n",
        "| Training approach | All at once (matrix decomposition) | Alternating optimization (least squares) |\n",
        "| Common usage | Academic research, Surprise library | Large-scale recommender systems |\n"
      ]
    },
    {
      "cell_type": "markdown",
      "id": "79aeeb8b",
      "metadata": {},
      "source": [
        "<br/>\n",
        "\n",
        "# NLP"
      ]
    },
    {
      "cell_type": "markdown",
      "id": "867b0288",
      "metadata": {},
      "source": [
        "### Core Concepts of NLP\n"
      ]
    },
    {
      "cell_type": "markdown",
      "id": "221e8490",
      "metadata": {},
      "source": [
        "#### Text Preprocessing: Cleaning and preparing raw text\n"
      ]
    },
    {
      "cell_type": "markdown",
      "id": "a2e40a7a",
      "metadata": {},
      "source": [
        "Lowercasing: \"Hello\" → \"hello\"\n"
      ]
    },
    {
      "cell_type": "markdown",
      "id": "63a25063",
      "metadata": {},
      "source": [
        "Removing punctuation: \"What's up?\" → \"Whats up\"\n"
      ]
    },
    {
      "cell_type": "markdown",
      "id": "6b3d8bc3",
      "metadata": {},
      "source": [
        "Tokenization: Splitting text into words\n"
      ]
    },
    {
      "cell_type": "markdown",
      "id": "b3077693",
      "metadata": {},
      "source": [
        "Stopword Removal: Removing common words like \"the\", \"is\", \"and\"\n"
      ]
    },
    {
      "cell_type": "markdown",
      "id": "b6fa3ff2",
      "metadata": {},
      "source": [
        "Stemming / Lemmatization: Reducing words to their root form\n"
      ]
    },
    {
      "cell_type": "markdown",
      "id": "1c952328",
      "metadata": {},
      "source": [
        "#### Code Example:\n"
      ]
    },
    {
      "cell_type": "code",
      "execution_count": 10,
      "id": "40f3684d",
      "metadata": {},
      "outputs": [
        {
          "name": "stderr",
          "output_type": "stream",
          "text": [
            "[nltk_data] Downloading package stopwords to\n",
            "[nltk_data]     C:\\Users\\SAM\\AppData\\Roaming\\nltk_data...\n",
            "[nltk_data]   Package stopwords is already up-to-date!\n",
            "[nltk_data] Downloading package punkt to\n",
            "[nltk_data]     C:\\Users\\SAM\\AppData\\Roaming\\nltk_data...\n",
            "[nltk_data]   Package punkt is already up-to-date!\n",
            "[nltk_data] Downloading package punkt_tab to\n",
            "[nltk_data]     C:\\Users\\SAM\\AppData\\Roaming\\nltk_data...\n",
            "[nltk_data]   Package punkt_tab is already up-to-date!\n"
          ]
        },
        {
          "data": {
            "text/plain": [
              "True"
            ]
          },
          "execution_count": 10,
          "metadata": {},
          "output_type": "execute_result"
        }
      ],
      "source": [
        "import nltk\n",
        "from nltk.corpus import stopwords\n",
        "from nltk.tokenize import word_tokenize\n",
        "from nltk.stem import PorterStemmer\n",
        "import string\n",
        "\n",
        "nltk.download(\"stopwords\")\n",
        "nltk.download(\"punkt\")\n",
        "nltk.download(\"punkt_tab\")"
      ]
    },
    {
      "cell_type": "code",
      "execution_count": 20,
      "id": "0003fd2c",
      "metadata": {},
      "outputs": [
        {
          "data": {
            "text/plain": [
              "<module 'text_preprocessor' from 'd:\\\\DS_Lessons\\\\lessons\\\\demos\\\\text_preprocessor.py'>"
            ]
          },
          "execution_count": 20,
          "metadata": {},
          "output_type": "execute_result"
        }
      ],
      "source": [
        "import importlib\n",
        "import text_preprocessor\n",
        "importlib.reload(text_preprocessor)"
      ]
    },
    {
      "cell_type": "code",
      "execution_count": 53,
      "id": "a211d506",
      "metadata": {},
      "outputs": [
        {
          "name": "stdout",
          "output_type": "stream",
          "text": [
            "Original tokens: ['natural', 'language', 'processing', 'is', 'fun', 'and', 'useful']\n",
            "Filtered tokens: ['natural', 'language', 'processing', 'is', 'fun', 'and', 'useful']\n",
            "Stemmed tokens: ['natur', 'languag', 'process', 'is', 'fun', 'and', 'use']\n"
          ]
        }
      ],
      "source": [
        "text = \"Natural Language Processing is fun and useful!\"\n",
        "\n",
        "text = text.lower()\n",
        "\n",
        "# Remove punctuation\n",
        "text = text.translate(str.maketrans('', '', string.punctuation))\n",
        "\n",
        "# Tokenize\n",
        "tokens = word_tokenize(text)\n",
        "# Remove stopwords\n",
        "stop_words = set(stopwords.words('spanish'))\n",
        "filtered_tokens = [word for word in tokens if word not in stop_words]\n",
        "\n",
        "\n",
        "# Stemming\n",
        "stemmer = PorterStemmer()\n",
        "stemmed_tokens = [stemmer.stem(word) for word in filtered_tokens]\n",
        "\n",
        "print(\"Original tokens:\", tokens)\n",
        "print(\"Filtered tokens:\", filtered_tokens)\n",
        "print(\"Stemmed tokens:\", stemmed_tokens)\n"
      ]
    },
    {
      "cell_type": "markdown",
      "id": "4f86f8ba",
      "metadata": {},
      "source": [
        "### Vectorization: Turning words into numbers\n"
      ]
    },
    {
      "cell_type": "markdown",
      "id": "5599d4bf",
      "metadata": {},
      "source": [
        "## BOW - Bag of Words"
      ]
    },
    {
      "cell_type": "markdown",
      "id": "2fa40e3b",
      "metadata": {},
      "source": [
        "Bag of Words\" (BoW) is just a way to turn text into a fixed-length vector. Whether an entry is 1 or 0 depends on how you choose to encode the BoW. The usual variants:"
      ]
    },
    {
      "cell_type": "markdown",
      "id": "43e885a1",
      "metadata": {},
      "source": [
        "Binary BoW (presence/absence): For each word in the vocabulary, the vector entry is 1 if that word appears at least once in the document, otherwise 0. Example: vocab = [dog, cat, tree]; document \"dog dog cat\" → [1, 1, 0]."
      ]
    },
    {
      "cell_type": "markdown",
      "id": "98d60960",
      "metadata": {},
      "source": [
        "### How the model \"decides\" a 1 vs 0 in practice\n",
        "\n",
        "1. **Build a vocabulary** from your corpus (list of tokens and their indices).  \n",
        "2. **Preprocess text**:\n",
        "   - Tokenize  \n",
        "   - Lowercase  \n",
        "   - Remove punctuation  \n",
        "   - (Optional) Remove stopwords  \n",
        "   - (Optional) Stem/Lemmatize  \n",
        "   This affects which tokens are present.\n",
        "3. **For each document and each vocabulary token**:\n",
        "   - **Binary BoW**: `vector[index] = 1` if the token appears in the document at least once, else `0`.  \n",
        "   - **Count BoW**: `vector[index] =` number of occurrences.  \n",
        "   - **Weighted**: Compute a weight (TF, TF-IDF, etc.) and optionally apply a threshold to set small values to `0`.\n"
      ]
    },
    {
      "cell_type": "markdown",
      "id": "546da71c",
      "metadata": {},
      "source": [
        "### Quick sklearn example:\n",
        "\n",
        "1. **Binary BoW**: CountVectorizer(binary=True)\n",
        "2. **Counts**: CountVectorizer(binary=False)\n",
        "3. **TF-IDF**: TfidfVectorizer()"
      ]
    },
    {
      "cell_type": "code",
      "execution_count": 55,
      "id": "cb137b22",
      "metadata": {},
      "outputs": [
        {
          "name": "stdout",
          "output_type": "stream",
          "text": [
            "['and' 'fun' 'is' 'languag' 'natur' 'process' 'use']\n",
            "[[0 0 0 0 1 0 0]\n",
            " [0 0 0 1 0 0 0]\n",
            " [0 0 0 0 0 1 0]\n",
            " [0 0 1 0 0 0 0]\n",
            " [0 1 0 0 0 0 0]\n",
            " [1 0 0 0 0 0 0]\n",
            " [0 0 0 0 0 0 1]]\n"
          ]
        }
      ],
      "source": [
        "from sklearn.feature_extraction.text import CountVectorizer\n",
        "\n",
        "corpus = ['natur', 'languag', 'process', 'is', 'fun', 'and', 'use']\n",
        "vectorizer = CountVectorizer()\n",
        "X = vectorizer.fit_transform(corpus)\n",
        "\n",
        "print(vectorizer.get_feature_names_out())\n",
        "print(X.toarray())\n"
      ]
    }
  ],
  "metadata": {
    "kernelspec": {
      "display_name": "venv",
      "language": "python",
      "name": "python3"
    },
    "language_info": {
      "codemirror_mode": {
        "name": "ipython",
        "version": 3
      },
      "file_extension": ".py",
      "mimetype": "text/x-python",
      "name": "python",
      "nbconvert_exporter": "python",
      "pygments_lexer": "ipython3",
      "version": "3.12.0"
    }
  },
  "nbformat": 4,
  "nbformat_minor": 5
}
